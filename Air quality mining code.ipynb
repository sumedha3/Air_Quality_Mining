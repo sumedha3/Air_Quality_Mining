{
 "cells": [
  {
   "cell_type": "markdown",
   "metadata": {
    "_uuid": "a3c8454b82b812de3aed326e4e485b6dc49b3c71"
   },
   "source": [
    "# Air Quality Over Time in the United States\n",
    "\n",
    "## Introduction\n",
    "The historical air quality dataset available on Kaggle by the USDA provides an opportunity to use machine learning algorithms to predict the air quality of a certain location based on its historical data. This notebook aims to explore the dataset and build machine learning models to predict the air quality of different locations."
   ]
  },
  {
   "cell_type": "code",
   "execution_count": null,
   "metadata": {
    "_cell_guid": "b1076dfc-b9ad-4769-8c92-a6c4dae69d19",
    "_uuid": "8f2839f25d086af736a60e9eeb907d3b93b6e0e5",
    "execution": {
     "iopub.execute_input": "2023-04-24T22:58:36.780911Z",
     "iopub.status.busy": "2023-04-24T22:58:36.780397Z",
     "iopub.status.idle": "2023-04-24T22:58:36.788509Z",
     "shell.execute_reply": "2023-04-24T22:58:36.787431Z",
     "shell.execute_reply.started": "2023-04-24T22:58:36.780868Z"
    }
   },
   "outputs": [],
   "source": [
    "# Load packages\n",
    "import numpy as np \n",
    "import pandas as pd\n",
    "import os\n",
    "\n",
    "# Big query helpers\n",
    "from google.cloud import bigquery\n",
    "from bq_helper import BigQueryHelper\n",
    "\n",
    "\n",
    "\n",
    "import warnings\n",
    "warnings.simplefilter(action='ignore', category=FutureWarning)"
   ]
  },
  {
   "cell_type": "markdown",
   "metadata": {},
   "source": [
    "## Setup big data"
   ]
  },
  {
   "cell_type": "code",
   "execution_count": null,
   "metadata": {
    "_cell_guid": "79c7e3d0-c299-4dcb-8224-4455121ee9b0",
    "_uuid": "d629ff2d2480ee46fbb7e2d37f6b5fab8052498a",
    "execution": {
     "iopub.execute_input": "2023-04-24T22:58:36.792946Z",
     "iopub.status.busy": "2023-04-24T22:58:36.790832Z",
     "iopub.status.idle": "2023-04-24T22:58:36.805934Z",
     "shell.execute_reply": "2023-04-24T22:58:36.804757Z",
     "shell.execute_reply.started": "2023-04-24T22:58:36.792906Z"
    }
   },
   "outputs": [],
   "source": [
    "# Set up query helpers\n",
    "bq_assistant = BigQueryHelper(\"bigquery-public-data\", \"epa_historical_air_quality\")\n",
    "pollutants = ['o3','co','no2','so2','pm25_frm']"
   ]
  },
  {
   "cell_type": "markdown",
   "metadata": {
    "_uuid": "3a472ba3d87f26c48076789a835a4c181a59d25f"
   },
   "source": [
    "## SQL queries\n",
    "\n",
    "Now that we have set up the environment, we can write the SQL queries that will get the data we need. To make the choloropleth map, we need 1) the air pollution AQI summaries by county and 2) the FIPS or location codes of each state and county. "
   ]
  },
  {
   "cell_type": "code",
   "execution_count": null,
   "metadata": {
    "_uuid": "e1ea261b127747d19fb04daf40e5a1a1bf1f8648",
    "execution": {
     "iopub.execute_input": "2023-04-24T22:58:36.810489Z",
     "iopub.status.busy": "2023-04-24T22:58:36.808502Z",
     "iopub.status.idle": "2023-04-24T22:58:36.821482Z",
     "shell.execute_reply": "2023-04-24T22:58:36.820331Z",
     "shell.execute_reply.started": "2023-04-24T22:58:36.810448Z"
    }
   },
   "outputs": [],
   "source": [
    "def get_pollutant_year_query(year):\n",
    "    query = f\"\"\"\n",
    "        SELECT\n",
    "            pollutant.county_name AS county, AVG(pollutant.aqi) AS AvgAQI_pollutant,\n",
    "            pollutant.state_code, pollutant.county_code\n",
    "        FROM\n",
    "          `bigquery-public-data.epa_historical_air_quality.pollutant_daily_summary` as pollutant\n",
    "        WHERE\n",
    "          pollutant.poc = 1\n",
    "          AND EXTRACT(YEAR FROM pollutant.date_local) = {year}\n",
    "        GROUP BY \n",
    "          pollutant.state_code, pollutant.county_code, pollutant.county_name\n",
    "    \"\"\"\n",
    "    return query"
   ]
  },
  {
   "cell_type": "markdown",
   "metadata": {
    "_uuid": "a20e8d14962476affd004f37cf53f02c382fadf5"
   },
   "source": [
    "## Data preparation \n",
    "\n",
    "We are now ready to run the SQL query.  We want to get the data from the daily summary table for each pollutant and each county. We could do the join in SQL using 'JOIN' commands but this will take a long time. Instead of doing this, we can run the queries for each pollutant and then merge the results in pandas. \n",
    "\n",
    "The merge in the code block below is an outer join because we want all the possible data that exists for each county. Just because a county does not have measurements for a particular pollutant does not mean that we want to discard all that county's data completely. We still want to retain whatever information exists. "
   ]
  },
  {
   "cell_type": "code",
   "execution_count": null,
   "metadata": {
    "execution": {
     "iopub.execute_input": "2023-04-24T22:58:36.824809Z",
     "iopub.status.busy": "2023-04-24T22:58:36.823692Z",
     "iopub.status.idle": "2023-04-24T22:58:36.835516Z",
     "shell.execute_reply": "2023-04-24T22:58:36.834262Z",
     "shell.execute_reply.started": "2023-04-24T22:58:36.824616Z"
    }
   },
   "outputs": [],
   "source": [
    "# Initialize an empty dictionary to store dataframes for each year\n",
    "dataframes_by_year = {}"
   ]
  },
  {
   "cell_type": "code",
   "execution_count": null,
   "metadata": {
    "execution": {
     "iopub.execute_input": "2023-04-24T22:58:36.841269Z",
     "iopub.status.busy": "2023-04-24T22:58:36.839053Z",
     "iopub.status.idle": "2023-04-24T22:59:07.497697Z",
     "shell.execute_reply": "2023-04-24T22:59:07.496603Z",
     "shell.execute_reply.started": "2023-04-24T22:58:36.840910Z"
    }
   },
   "outputs": [],
   "source": [
    "for year in range(2017, 2023):\n",
    "    print(f\"Processing data for year {year}...\")\n",
    "    try:\n",
    "        # Initialize the data-frame for year\n",
    "        df = pd.DataFrame()\n",
    "\n",
    "        # Now loop through the pollutants list we already have\n",
    "        for elem_g in pollutants : \n",
    "\n",
    "            # Replaces the word 'pollutant' in the query with the actual pollutant's name\n",
    "            query = get_pollutant_year_query(year).replace(\"pollutant\", elem_g)\n",
    "\n",
    "            # Runs the query and transforms it to a pandas data-frame \n",
    "            # Create a joined up FIPS code that uniquely identifies counties\n",
    "            # Set the index \n",
    "            temp = bq_assistant.query_to_pandas(query)\n",
    "            temp['location_code'] = temp['state_code'] + temp['county_code']\n",
    "            temp.set_index('location_code') \n",
    "\n",
    "            # Concatenate the tables of the different pollutants together \n",
    "            # Fill in the missing values with the mean of the column\n",
    "            if elem_g == 'o3': \n",
    "                df = temp \n",
    "\n",
    "            # Merge on location code\n",
    "            else:\n",
    "                temp.drop(['state_code', 'county_code', 'county'], inplace = True, axis = 1)\n",
    "                df = pd.merge(df, temp, how = 'outer', on = ['location_code'],\n",
    "                                  indicator = elem_g + '_merge')\n",
    "        \n",
    "        # Add a new \"year\" column to the DataFrame\n",
    "        df['year'] = year\n",
    "        \n",
    "        # add\n",
    "        dataframes_by_year[year] = df\n",
    "    except:\n",
    "        print(year)\n",
    "    "
   ]
  },
  {
   "cell_type": "code",
   "execution_count": null,
   "metadata": {
    "execution": {
     "iopub.execute_input": "2023-04-24T22:59:07.499688Z",
     "iopub.status.busy": "2023-04-24T22:59:07.499314Z",
     "iopub.status.idle": "2023-04-24T22:59:07.520415Z",
     "shell.execute_reply": "2023-04-24T22:59:07.518939Z",
     "shell.execute_reply.started": "2023-04-24T22:59:07.499647Z"
    }
   },
   "outputs": [],
   "source": [
    "dataframes_by_year[2022].head()"
   ]
  },
  {
   "cell_type": "markdown",
   "metadata": {
    "_uuid": "1730f477d35997c1208e0cf56ae42c50f2dbb2bf"
   },
   "source": [
    "## Missing values \n",
    "\n",
    "The data we have seems fine. There is one catch: there are counties in the data-set where certain pollutants were not measured in year. For example, the Avg. AQI index value for Hendricks county is missing in the random sample that we have drawn above. We need to deal with these missing values in some way. The code block below fills in these missing values with the average value for that column."
   ]
  },
  {
   "cell_type": "code",
   "execution_count": null,
   "metadata": {
    "_uuid": "b1269cb94f329c941ca55f3559cc892c5cb48ad8",
    "execution": {
     "iopub.execute_input": "2023-04-24T22:59:07.524575Z",
     "iopub.status.busy": "2023-04-24T22:59:07.523650Z",
     "iopub.status.idle": "2023-04-24T22:59:07.564656Z",
     "shell.execute_reply": "2023-04-24T22:59:07.563450Z",
     "shell.execute_reply.started": "2023-04-24T22:59:07.524507Z"
    },
    "scrolled": true
   },
   "outputs": [],
   "source": [
    "# Concatenate the data frames for all years\n",
    "df_all = pd.concat(dataframes_by_year.values(), axis=0)\n",
    "\n",
    "# Fill in the numeric missing values \n",
    "for column in df_all.columns: \n",
    "    if df_all[column].dtype in ['float64', 'int64']: \n",
    "        df_all[column].fillna(df_all[column].mean(), inplace = True)\n",
    "\n",
    "# Randomly pick 10 counties to take a look at the data\n",
    "df_all.sample(10, random_state=42)"
   ]
  },
  {
   "cell_type": "markdown",
   "metadata": {
    "_uuid": "523fdd09e2608eb77c73616d7809b6dc8fcccd5d"
   },
   "source": [
    "## Creating the maps! \n",
    "The code below calls the Plotly API to create a choloropleth map for each pollutant at the county level for the USA. The high number of missing values in each plot are surprising. It would be interesting to predict these from the existing data."
   ]
  },
  {
   "cell_type": "code",
   "execution_count": null,
   "metadata": {
    "execution": {
     "iopub.execute_input": "2023-04-24T22:59:07.566586Z",
     "iopub.status.busy": "2023-04-24T22:59:07.566129Z",
     "iopub.status.idle": "2023-04-24T22:59:27.937372Z",
     "shell.execute_reply": "2023-04-24T22:59:27.936020Z",
     "shell.execute_reply.started": "2023-04-24T22:59:07.566550Z"
    }
   },
   "outputs": [],
   "source": [
    "!pip install dash==1.20.0\n",
    "!pip install -q plotly==3.6.1 \n"
   ]
  },
  {
   "cell_type": "code",
   "execution_count": null,
   "metadata": {
    "_uuid": "1f77bb9633f5bafe6f4df02a74f30941a4cfa866",
    "execution": {
     "iopub.execute_input": "2023-04-24T22:59:27.941538Z",
     "iopub.status.busy": "2023-04-24T22:59:27.941045Z",
     "iopub.status.idle": "2023-04-24T22:59:28.030825Z",
     "shell.execute_reply": "2023-04-24T22:59:28.029369Z",
     "shell.execute_reply.started": "2023-04-24T22:59:27.941491Z"
    }
   },
   "outputs": [],
   "source": [
    "# Import plotting libaries\n",
    "import matplotlib.pyplot as plt\n",
    "import plotly.plotly as py\n",
    "import plotly.figure_factory as ff\n",
    "import plotly.io as pio\n",
    "\n",
    "# Need this so we can use Plotly in offline mode\n",
    "# This will allow the maps we make to show up in this notebook\n",
    "from plotly.offline import init_notebook_mode, iplot\n",
    "init_notebook_mode()\n",
    "\n",
    "def make_plot(pollutant, plot_labels, color_scale):\n",
    "    '''This code makes the choloropleth map.'''\n",
    "\n",
    "    # Store the location codes (also called FIPS codes)\n",
    "    fips = df_all['location_code'].tolist()\n",
    "    values = df_all['AvgAQI_' + pollutant].tolist()\n",
    "    \n",
    "    # Store the end-points \n",
    "    endpts = list(np.linspace(min(values), max(values), len(color_scale) - 1))\n",
    "\n",
    "    # Create the choloropleth map\n",
    "    fig = ff.create_choropleth(\n",
    "        fips = fips, values = values, scope = ['usa'],\n",
    "        binning_endpoints = endpts, colorscale = color_scale,\n",
    "        show_state_data = False,\n",
    "        show_hover = True, centroid_marker = {'opacity': 0},\n",
    "        asp = 2.9, title = 'USA by Average ' + plot_labels[pollutant]['title'],\n",
    "        legend_title = 'Avg. ' + plot_labels[pollutant]['title']\n",
    "    )\n",
    "\n",
    "    # Show the chloropleth map\n",
    "    iplot(fig, filename = 'choropleth_full_usa')\n",
    "    \n",
    "    return"
   ]
  },
  {
   "cell_type": "code",
   "execution_count": null,
   "metadata": {
    "_uuid": "b52d8b96aad6bcf7369c067934bcacd5faaef878",
    "execution": {
     "iopub.execute_input": "2023-04-24T22:59:28.033669Z",
     "iopub.status.busy": "2023-04-24T22:59:28.032810Z",
     "iopub.status.idle": "2023-04-24T23:02:08.823931Z",
     "shell.execute_reply": "2023-04-24T23:02:08.822473Z",
     "shell.execute_reply.started": "2023-04-24T22:59:28.033605Z"
    }
   },
   "outputs": [],
   "source": [
    "# Run the code\n",
    "if __name__ == '__main__':\n",
    "\n",
    "    # Store the labels dictionary \n",
    "    plot_labels = {'o3': {'title': 'O3'}, 'co': {'title': 'CO'}, \n",
    "                   'pm25_frm': {'title': 'PM 2.5'}, 'no2': {'title': 'NO2'}, \n",
    "                  'so2': {'title': 'SO2'}} \n",
    "\n",
    "    # Store the color-scale\n",
    "    color_scale = [\"#f7fbff\",\"#ebf3fb\",\"#deebf7\",\"#d2e3f3\",\"#c6dbef\",\"#b3d2e9\",\"#9ecae1\",\n",
    "                  \"#85bcdb\",\"#6baed6\",\"#57a0ce\",\"#4292c6\",\"#3082be\",\"#2171b5\",\"#1361a9\",\n",
    "                  \"#08519c\",\"#0b4083\",\"#08306b\"]\n",
    "    \n",
    "    # Make the plot for each pollutant\n",
    "    for pollutant in pollutants:\n",
    "        make_plot(pollutant, plot_labels, color_scale)"
   ]
  },
  {
   "cell_type": "markdown",
   "metadata": {},
   "source": [
    "## Train Test Split"
   ]
  },
  {
   "cell_type": "code",
   "execution_count": null,
   "metadata": {
    "execution": {
     "iopub.execute_input": "2023-04-24T23:02:08.829446Z",
     "iopub.status.busy": "2023-04-24T23:02:08.826123Z",
     "iopub.status.idle": "2023-04-24T23:02:08.855114Z",
     "shell.execute_reply": "2023-04-24T23:02:08.854142Z",
     "shell.execute_reply.started": "2023-04-24T23:02:08.829389Z"
    }
   },
   "outputs": [],
   "source": [
    "df_all.head()"
   ]
  },
  {
   "cell_type": "code",
   "execution_count": null,
   "metadata": {
    "execution": {
     "iopub.execute_input": "2023-04-24T23:02:08.860252Z",
     "iopub.status.busy": "2023-04-24T23:02:08.859454Z",
     "iopub.status.idle": "2023-04-24T23:02:08.869555Z",
     "shell.execute_reply": "2023-04-24T23:02:08.868666Z",
     "shell.execute_reply.started": "2023-04-24T23:02:08.860196Z"
    }
   },
   "outputs": [],
   "source": [
    "categorical_cols = list(df_all.select_dtypes(include=['object']).columns)\n",
    "print(categorical_cols)"
   ]
  },
  {
   "cell_type": "code",
   "execution_count": null,
   "metadata": {
    "execution": {
     "iopub.execute_input": "2023-04-24T23:02:08.871718Z",
     "iopub.status.busy": "2023-04-24T23:02:08.870967Z",
     "iopub.status.idle": "2023-04-24T23:02:08.879658Z",
     "shell.execute_reply": "2023-04-24T23:02:08.878766Z",
     "shell.execute_reply.started": "2023-04-24T23:02:08.871684Z"
    }
   },
   "outputs": [],
   "source": [
    "merge_cols = [col for col in df_all.columns if '_merge' in col]\n",
    "print(merge_cols)"
   ]
  },
  {
   "cell_type": "code",
   "execution_count": null,
   "metadata": {
    "execution": {
     "iopub.execute_input": "2023-04-24T23:02:08.881737Z",
     "iopub.status.busy": "2023-04-24T23:02:08.881103Z",
     "iopub.status.idle": "2023-04-24T23:02:08.895345Z",
     "shell.execute_reply": "2023-04-24T23:02:08.894267Z",
     "shell.execute_reply.started": "2023-04-24T23:02:08.881704Z"
    }
   },
   "outputs": [],
   "source": [
    "df_all.drop(columns=[col for col in df_all.columns if '_merge' in col], inplace=True)"
   ]
  },
  {
   "cell_type": "code",
   "execution_count": null,
   "metadata": {
    "execution": {
     "iopub.execute_input": "2023-04-24T23:02:08.897860Z",
     "iopub.status.busy": "2023-04-24T23:02:08.897090Z",
     "iopub.status.idle": "2023-04-24T23:02:08.967679Z",
     "shell.execute_reply": "2023-04-24T23:02:08.966533Z",
     "shell.execute_reply.started": "2023-04-24T23:02:08.897818Z"
    }
   },
   "outputs": [],
   "source": [
    "df_all.to_csv('Alldata.csv')"
   ]
  },
  {
   "cell_type": "code",
   "execution_count": null,
   "metadata": {
    "execution": {
     "iopub.execute_input": "2023-04-24T23:02:08.969830Z",
     "iopub.status.busy": "2023-04-24T23:02:08.969169Z",
     "iopub.status.idle": "2023-04-24T23:02:08.976959Z",
     "shell.execute_reply": "2023-04-24T23:02:08.975974Z",
     "shell.execute_reply.started": "2023-04-24T23:02:08.969795Z"
    }
   },
   "outputs": [],
   "source": [
    "categorical_cols = list(df_all.select_dtypes(include=['object']).columns)\n",
    "print(categorical_cols)"
   ]
  },
  {
   "cell_type": "markdown",
   "metadata": {},
   "source": [
    "## Convert to Numerical"
   ]
  },
  {
   "cell_type": "code",
   "execution_count": null,
   "metadata": {
    "execution": {
     "iopub.execute_input": "2023-04-24T23:02:08.979277Z",
     "iopub.status.busy": "2023-04-24T23:02:08.978608Z",
     "iopub.status.idle": "2023-04-24T23:02:09.016974Z",
     "shell.execute_reply": "2023-04-24T23:02:09.015795Z",
     "shell.execute_reply.started": "2023-04-24T23:02:08.979239Z"
    }
   },
   "outputs": [],
   "source": [
    "df_all.describe()"
   ]
  },
  {
   "cell_type": "code",
   "execution_count": null,
   "metadata": {
    "execution": {
     "iopub.execute_input": "2023-04-24T23:02:09.019414Z",
     "iopub.status.busy": "2023-04-24T23:02:09.018670Z",
     "iopub.status.idle": "2023-04-24T23:02:09.027998Z",
     "shell.execute_reply": "2023-04-24T23:02:09.027122Z",
     "shell.execute_reply.started": "2023-04-24T23:02:09.019377Z"
    }
   },
   "outputs": [],
   "source": [
    "df_all.dtypes "
   ]
  },
  {
   "cell_type": "code",
   "execution_count": null,
   "metadata": {
    "execution": {
     "iopub.execute_input": "2023-04-24T23:02:09.030189Z",
     "iopub.status.busy": "2023-04-24T23:02:09.029540Z",
     "iopub.status.idle": "2023-04-24T23:02:09.035838Z",
     "shell.execute_reply": "2023-04-24T23:02:09.034971Z",
     "shell.execute_reply.started": "2023-04-24T23:02:09.030153Z"
    }
   },
   "outputs": [],
   "source": [
    "df=df_all"
   ]
  },
  {
   "cell_type": "code",
   "execution_count": null,
   "metadata": {
    "execution": {
     "iopub.execute_input": "2023-04-24T23:02:09.037871Z",
     "iopub.status.busy": "2023-04-24T23:02:09.037230Z",
     "iopub.status.idle": "2023-04-24T23:02:09.051002Z",
     "shell.execute_reply": "2023-04-24T23:02:09.049989Z",
     "shell.execute_reply.started": "2023-04-24T23:02:09.037837Z"
    }
   },
   "outputs": [],
   "source": [
    "df['state_code'] = df['state_code'].astype(float)\n",
    "df['county_code'] = df['county_code'].astype(float)\n",
    "df['location_code'] = df['location_code'].astype(float)"
   ]
  },
  {
   "cell_type": "code",
   "execution_count": null,
   "metadata": {
    "execution": {
     "iopub.execute_input": "2023-04-24T23:02:09.053265Z",
     "iopub.status.busy": "2023-04-24T23:02:09.052538Z",
     "iopub.status.idle": "2023-04-24T23:02:09.061037Z",
     "shell.execute_reply": "2023-04-24T23:02:09.060154Z",
     "shell.execute_reply.started": "2023-04-24T23:02:09.053176Z"
    }
   },
   "outputs": [],
   "source": [
    "df.dtypes "
   ]
  },
  {
   "cell_type": "code",
   "execution_count": null,
   "metadata": {
    "execution": {
     "iopub.execute_input": "2023-04-24T23:02:09.063300Z",
     "iopub.status.busy": "2023-04-24T23:02:09.062615Z",
     "iopub.status.idle": "2023-04-24T23:02:10.135774Z",
     "shell.execute_reply": "2023-04-24T23:02:10.134578Z",
     "shell.execute_reply.started": "2023-04-24T23:02:09.063266Z"
    }
   },
   "outputs": [],
   "source": [
    "!ls"
   ]
  },
  {
   "cell_type": "code",
   "execution_count": null,
   "metadata": {
    "execution": {
     "iopub.execute_input": "2023-04-24T23:02:10.139125Z",
     "iopub.status.busy": "2023-04-24T23:02:10.137761Z",
     "iopub.status.idle": "2023-04-24T23:02:10.171466Z",
     "shell.execute_reply": "2023-04-24T23:02:10.170260Z",
     "shell.execute_reply.started": "2023-04-24T23:02:10.139067Z"
    }
   },
   "outputs": [],
   "source": [
    "import pandas as pd\n",
    "from sklearn.model_selection import train_test_split\n",
    "from sklearn.ensemble import RandomForestRegressor\n",
    "\n",
    "# Load the data\n",
    "data = pd.read_csv('Alldata.csv',index_col=0)\n",
    "print(data.head())\n",
    "# Convert county column to categorical\n",
    "data['county'] = pd.Categorical(data['county'])"
   ]
  },
  {
   "cell_type": "code",
   "execution_count": null,
   "metadata": {
    "execution": {
     "iopub.execute_input": "2023-04-24T23:02:10.174179Z",
     "iopub.status.busy": "2023-04-24T23:02:10.173468Z",
     "iopub.status.idle": "2023-04-24T23:02:10.190058Z",
     "shell.execute_reply": "2023-04-24T23:02:10.188901Z",
     "shell.execute_reply.started": "2023-04-24T23:02:10.174138Z"
    }
   },
   "outputs": [],
   "source": [
    "data.head()"
   ]
  },
  {
   "cell_type": "code",
   "execution_count": null,
   "metadata": {
    "execution": {
     "iopub.execute_input": "2023-04-24T23:02:10.192648Z",
     "iopub.status.busy": "2023-04-24T23:02:10.191904Z",
     "iopub.status.idle": "2023-04-24T23:02:10.203219Z",
     "shell.execute_reply": "2023-04-24T23:02:10.202140Z",
     "shell.execute_reply.started": "2023-04-24T23:02:10.192607Z"
    }
   },
   "outputs": [],
   "source": [
    "import pandas as pd\n",
    "import matplotlib.pyplot as plt\n",
    "import numpy as np\n",
    "\n",
    "# Set the year column as the index of the DataFrame\n",
    "data.set_index('year', inplace=True)"
   ]
  },
  {
   "cell_type": "code",
   "execution_count": null,
   "metadata": {
    "execution": {
     "iopub.execute_input": "2023-04-24T23:02:10.205275Z",
     "iopub.status.busy": "2023-04-24T23:02:10.204886Z",
     "iopub.status.idle": "2023-04-24T23:02:10.215778Z",
     "shell.execute_reply": "2023-04-24T23:02:10.214701Z",
     "shell.execute_reply.started": "2023-04-24T23:02:10.205231Z"
    }
   },
   "outputs": [],
   "source": [
    "# Convert the index to a DatetimeIndex\n",
    "data.index = pd.to_datetime(data.index, format='%Y')"
   ]
  },
  {
   "cell_type": "code",
   "execution_count": null,
   "metadata": {
    "execution": {
     "iopub.execute_input": "2023-04-24T23:02:10.223399Z",
     "iopub.status.busy": "2023-04-24T23:02:10.222508Z",
     "iopub.status.idle": "2023-04-24T23:02:10.239339Z",
     "shell.execute_reply": "2023-04-24T23:02:10.238261Z",
     "shell.execute_reply.started": "2023-04-24T23:02:10.223363Z"
    }
   },
   "outputs": [],
   "source": [
    "data.head()"
   ]
  },
  {
   "cell_type": "code",
   "execution_count": null,
   "metadata": {
    "execution": {
     "iopub.execute_input": "2023-04-24T23:02:10.241668Z",
     "iopub.status.busy": "2023-04-24T23:02:10.240852Z",
     "iopub.status.idle": "2023-04-24T23:02:10.250936Z",
     "shell.execute_reply": "2023-04-24T23:02:10.249536Z",
     "shell.execute_reply.started": "2023-04-24T23:02:10.241626Z"
    }
   },
   "outputs": [],
   "source": [
    "data.dtypes"
   ]
  },
  {
   "cell_type": "code",
   "execution_count": null,
   "metadata": {
    "execution": {
     "iopub.execute_input": "2023-04-24T23:02:10.253069Z",
     "iopub.status.busy": "2023-04-24T23:02:10.252564Z",
     "iopub.status.idle": "2023-04-24T23:02:10.265633Z",
     "shell.execute_reply": "2023-04-24T23:02:10.264526Z",
     "shell.execute_reply.started": "2023-04-24T23:02:10.253028Z"
    }
   },
   "outputs": [],
   "source": [
    "# Resample the data by year\n",
    "df_yearly = data.resample('A').mean()"
   ]
  },
  {
   "cell_type": "code",
   "execution_count": null,
   "metadata": {
    "execution": {
     "iopub.execute_input": "2023-04-24T23:02:10.267900Z",
     "iopub.status.busy": "2023-04-24T23:02:10.267508Z",
     "iopub.status.idle": "2023-04-24T23:02:10.500323Z",
     "shell.execute_reply": "2023-04-24T23:02:10.499243Z",
     "shell.execute_reply.started": "2023-04-24T23:02:10.267861Z"
    }
   },
   "outputs": [],
   "source": [
    "# Plot the time series\n",
    "plt.plot(df_yearly.index, df_yearly['AvgAQI_o3'])\n",
    "plt.title('Average AQI O3 over time')\n",
    "plt.xlabel('Year')\n",
    "plt.ylabel('AQI')\n",
    "plt.show()"
   ]
  },
  {
   "cell_type": "code",
   "execution_count": null,
   "metadata": {
    "execution": {
     "iopub.execute_input": "2023-04-24T23:02:10.502434Z",
     "iopub.status.busy": "2023-04-24T23:02:10.501590Z",
     "iopub.status.idle": "2023-04-24T23:02:10.508030Z",
     "shell.execute_reply": "2023-04-24T23:02:10.507045Z",
     "shell.execute_reply.started": "2023-04-24T23:02:10.502395Z"
    }
   },
   "outputs": [],
   "source": [
    "# Split the data into training and testing sets\n",
    "train_size = int(len(df_yearly) * 0.8)\n",
    "train, test = df_yearly[:train_size], df_yearly[train_size:]"
   ]
  },
  {
   "cell_type": "code",
   "execution_count": null,
   "metadata": {
    "execution": {
     "iopub.execute_input": "2023-04-24T23:02:10.510106Z",
     "iopub.status.busy": "2023-04-24T23:02:10.509520Z",
     "iopub.status.idle": "2023-04-24T23:02:20.259591Z",
     "shell.execute_reply": "2023-04-24T23:02:20.258342Z",
     "shell.execute_reply.started": "2023-04-24T23:02:10.510069Z"
    }
   },
   "outputs": [],
   "source": [
    "!pip install -q statsmodels==0.10.2"
   ]
  },
  {
   "cell_type": "code",
   "execution_count": null,
   "metadata": {
    "execution": {
     "iopub.execute_input": "2023-04-24T23:02:20.262014Z",
     "iopub.status.busy": "2023-04-24T23:02:20.261597Z",
     "iopub.status.idle": "2023-04-24T23:02:20.291091Z",
     "shell.execute_reply": "2023-04-24T23:02:20.289885Z",
     "shell.execute_reply.started": "2023-04-24T23:02:20.261972Z"
    }
   },
   "outputs": [],
   "source": [
    "from statsmodels.tsa.statespace.sarimax import SARIMAX\n",
    "\n",
    "model = SARIMAX(train['AvgAQI_o3'], order=(0,1,0), seasonal_order=(0,1,0,12))\n",
    "model_fit = model.fit()\n",
    "predictions = model_fit.forecast(steps=len(test))"
   ]
  },
  {
   "cell_type": "code",
   "execution_count": null,
   "metadata": {
    "execution": {
     "iopub.execute_input": "2023-04-24T23:02:20.293503Z",
     "iopub.status.busy": "2023-04-24T23:02:20.292821Z",
     "iopub.status.idle": "2023-04-24T23:02:20.303283Z",
     "shell.execute_reply": "2023-04-24T23:02:20.301071Z",
     "shell.execute_reply.started": "2023-04-24T23:02:20.293462Z"
    }
   },
   "outputs": [],
   "source": [
    "from sklearn.metrics import mean_absolute_error, mean_squared_error\n",
    "\n",
    "mae = mean_absolute_error(test['AvgAQI_o3'], predictions)\n",
    "rmse = mean_squared_error(test['AvgAQI_o3'], predictions, squared=False)\n",
    "\n",
    "print(\"MAE:\", mae)\n",
    "print(\"RMSE:\", rmse)\n"
   ]
  },
  {
   "cell_type": "code",
   "execution_count": null,
   "metadata": {
    "execution": {
     "iopub.execute_input": "2023-04-24T23:02:20.306085Z",
     "iopub.status.busy": "2023-04-24T23:02:20.305330Z",
     "iopub.status.idle": "2023-04-24T23:02:20.585229Z",
     "shell.execute_reply": "2023-04-24T23:02:20.584144Z",
     "shell.execute_reply.started": "2023-04-24T23:02:20.306035Z"
    }
   },
   "outputs": [],
   "source": [
    "plt.figure(figsize=(12,6))\n",
    "plt.plot(test.index, test['AvgAQI_o3'], label='Actual')\n",
    "plt.plot(test.index, predictions, label='Predicted')\n",
    "plt.legend()\n",
    "plt.title('SARIMA Model Predictions')\n",
    "plt.xlabel('Year')\n",
    "plt.ylabel('AvgAQI_o3')\n",
    "plt.show()"
   ]
  },
  {
   "cell_type": "code",
   "execution_count": null,
   "metadata": {},
   "outputs": [],
   "source": []
  }
 ],
 "metadata": {
  "kernelspec": {
   "display_name": "Python 3 (ipykernel)",
   "language": "python",
   "name": "python3"
  },
  "language_info": {
   "codemirror_mode": {
    "name": "ipython",
    "version": 3
   },
   "file_extension": ".py",
   "mimetype": "text/x-python",
   "name": "python",
   "nbconvert_exporter": "python",
   "pygments_lexer": "ipython3",
   "version": "3.10.9"
  }
 },
 "nbformat": 4,
 "nbformat_minor": 4
}
